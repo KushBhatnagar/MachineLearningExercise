{
 "cells": [
  {
   "cell_type": "markdown",
   "metadata": {},
   "source": [
    "# Log Puzzle Problem"
   ]
  },
  {
   "cell_type": "markdown",
   "metadata": {},
   "source": [
    "Find all the \"puzzle\" path urls in the given apache logfile. Combine the path from each url with the server name from the filename to form a full url . This piece of code can be used to fetch any log line from server logs"
   ]
  },
  {
   "cell_type": "code",
   "execution_count": 14,
   "metadata": {},
   "outputs": [],
   "source": [
    "import re\n",
    "\n",
    "test_phrase = \" \"\n",
    "test_patterns = [ 'puzzle/a-[a-z]+.jpg']\n",
    "\n",
    "def find_pattern(patterns,phrase):\n",
    "    \"\"\"\n",
    "     This function will search pattern in a log file\n",
    "    \"\"\"    \n",
    "    for pattern in patterns:\n",
    "        print('Searching the phrase using the re check: {}'.format(pattern))\n",
    "    return re.findall(pattern,phrase)\n",
    "\n",
    "def read_logfile(filename):\n",
    "    \"\"\"\n",
    "    This function will open a log file and read the file\n",
    "    \"\"\"\n",
    "    f=open(filename)\n",
    "    test_phrase=f.read()\n",
    "    f.close()\n",
    "    return test_phrase\n",
    "\n",
    "def get_urls(filename,servername):\n",
    "    mylist=[]\n",
    "    appendedlist=[]\n",
    "    \"\"\"\n",
    "    This function will call read_log file and then find_pattern function to get URLs \n",
    "    and append the same with server name\n",
    "    \"\"\"\n",
    "    mylist=find_pattern(test_patterns,read_logfile(filename))\n",
    "    for item in mylist:\n",
    "        appendedlist.append(servername+item)\n",
    "    return appendedlist \n",
    "    \n",
    "    "
   ]
  },
  {
   "cell_type": "code",
   "execution_count": 17,
   "metadata": {},
   "outputs": [
    {
     "name": "stdout",
     "output_type": "stream",
     "text": [
      "Searching the phrase using the re check: puzzle/a-[a-z]+.jpg\n"
     ]
    },
    {
     "data": {
      "text/plain": [
       "['http://code.google.com/somethingpuzzle/a-baaa.jpg',\n",
       " 'http://code.google.com/somethingpuzzle/a-baag.jpg',\n",
       " 'http://code.google.com/somethingpuzzle/a-baac.jpg',\n",
       " 'http://code.google.com/somethingpuzzle/a-baac.jpg',\n",
       " 'http://code.google.com/somethingpuzzle/a-baaf.jpg',\n",
       " 'http://code.google.com/somethingpuzzle/a-baae.jpg',\n",
       " 'http://code.google.com/somethingpuzzle/a-babf.jpg',\n",
       " 'http://code.google.com/somethingpuzzle/a-babi.jpg',\n",
       " 'http://code.google.com/somethingpuzzle/a-baai.jpg',\n",
       " 'http://code.google.com/somethingpuzzle/a-babf.jpg',\n",
       " 'http://code.google.com/somethingpuzzle/a-baai.jpg',\n",
       " 'http://code.google.com/somethingpuzzle/a-babg.jpg',\n",
       " 'http://code.google.com/somethingpuzzle/a-babc.jpg',\n",
       " 'http://code.google.com/somethingpuzzle/a-babh.jpg',\n",
       " 'http://code.google.com/somethingpuzzle/a-babc.jpg',\n",
       " 'http://code.google.com/somethingpuzzle/a-babb.jpg',\n",
       " 'http://code.google.com/somethingpuzzle/a-babb.jpg',\n",
       " 'http://code.google.com/somethingpuzzle/a-babg.jpg',\n",
       " 'http://code.google.com/somethingpuzzle/a-baae.jpg',\n",
       " 'http://code.google.com/somethingpuzzle/a-babd.jpg',\n",
       " 'http://code.google.com/somethingpuzzle/a-baba.jpg',\n",
       " 'http://code.google.com/somethingpuzzle/a-baab.jpg',\n",
       " 'http://code.google.com/somethingpuzzle/a-babd.jpg',\n",
       " 'http://code.google.com/somethingpuzzle/a-baad.jpg',\n",
       " 'http://code.google.com/somethingpuzzle/a-babj.jpg',\n",
       " 'http://code.google.com/somethingpuzzle/a-babj.jpg',\n",
       " 'http://code.google.com/somethingpuzzle/a-baag.jpg',\n",
       " 'http://code.google.com/somethingpuzzle/a-baaf.jpg',\n",
       " 'http://code.google.com/somethingpuzzle/a-baah.jpg',\n",
       " 'http://code.google.com/somethingpuzzle/a-baaj.jpg',\n",
       " 'http://code.google.com/somethingpuzzle/a-babe.jpg',\n",
       " 'http://code.google.com/somethingpuzzle/a-baaa.jpg',\n",
       " 'http://code.google.com/somethingpuzzle/a-baab.jpg',\n",
       " 'http://code.google.com/somethingpuzzle/a-babe.jpg',\n",
       " 'http://code.google.com/somethingpuzzle/a-baad.jpg',\n",
       " 'http://code.google.com/somethingpuzzle/a-baah.jpg',\n",
       " 'http://code.google.com/somethingpuzzle/a-babi.jpg',\n",
       " 'http://code.google.com/somethingpuzzle/a-baba.jpg',\n",
       " 'http://code.google.com/somethingpuzzle/a-babh.jpg',\n",
       " 'http://code.google.com/somethingpuzzle/a-baaj.jpg']"
      ]
     },
     "execution_count": 17,
     "metadata": {},
     "output_type": "execute_result"
    }
   ],
   "source": [
    "get_urls(\"animal_code.google.com\",\"http://code.google.com/something\")"
   ]
  },
  {
   "cell_type": "markdown",
   "metadata": {},
   "source": [
    "# Fetch list of folders present under a directory"
   ]
  },
  {
   "cell_type": "code",
   "execution_count": null,
   "metadata": {},
   "outputs": [],
   "source": [
    "import os\n",
    "def printdr(dir):\n",
    "    filenames=os.listdir(dir)\n",
    "    for filename in filenames:\n",
    "       # print(filenames)\n",
    "       print(os.path.join(dir,filename))"
   ]
  },
  {
   "cell_type": "code",
   "execution_count": null,
   "metadata": {},
   "outputs": [],
   "source": [
    "printdr(\"C:\\\\WORKSPACE\")"
   ]
  }
 ],
 "metadata": {
  "kernelspec": {
   "display_name": "Python 3",
   "language": "python",
   "name": "python3"
  },
  "language_info": {
   "codemirror_mode": {
    "name": "ipython",
    "version": 3
   },
   "file_extension": ".py",
   "mimetype": "text/x-python",
   "name": "python",
   "nbconvert_exporter": "python",
   "pygments_lexer": "ipython3",
   "version": "3.7.3"
  }
 },
 "nbformat": 4,
 "nbformat_minor": 2
}
