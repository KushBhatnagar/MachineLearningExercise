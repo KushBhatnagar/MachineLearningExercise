{
 "cells": [
  {
   "cell_type": "markdown",
   "metadata": {},
   "source": [
    "## Media Company Case Study"
   ]
  },
  {
   "cell_type": "markdown",
   "metadata": {},
   "source": [
    "Problem Statement: A digital media company (similar to Voot, Hotstar, Netflix, etc.) had launched a show. Initially, the show got a good response, but then witnessed a decline in viewership. The company wants to figure out what went wrong."
   ]
  },
  {
   "cell_type": "code",
   "execution_count": 1,
   "metadata": {},
   "outputs": [],
   "source": [
    "# Importing all required packages\n",
    "import numpy as np\n",
    "import pandas as pd\n",
    "import matplotlib.pyplot as plt\n",
    "import seaborn as sns\n",
    "%matplotlib inline"
   ]
  },
  {
   "cell_type": "code",
   "execution_count": 2,
   "metadata": {},
   "outputs": [],
   "source": [
    "#Importing the dataset and removing the Unnamed and Date colums from independent variable\n",
    "dataset = pd.read_csv('mediacompany.csv')\n",
    "dataset = dataset.drop('Unnamed: 7',axis = 1)\n",
    "dataset = dataset.drop('Date',axis = 1)\n",
    "X=dataset.iloc[:,1:].values\n",
    "y=dataset.iloc[:,0].values"
   ]
  },
  {
   "cell_type": "code",
   "execution_count": 3,
   "metadata": {},
   "outputs": [],
   "source": [
    "# Splitting the dataset into the Training set and Test set\n",
    "from sklearn.model_selection import train_test_split\n",
    "X_train, X_test, y_train, y_test = train_test_split(X, y, test_size = 0.2, random_state = 0)"
   ]
  },
  {
   "cell_type": "code",
   "execution_count": 4,
   "metadata": {},
   "outputs": [],
   "source": [
    "# Fitting Multiple linear regression to the training set\n",
    "from sklearn.linear_model import LinearRegression\n",
    "regressor=LinearRegression()\n",
    "regressor.fit(X_train,y_train)\n",
    "\n",
    "#Predicting the test set results\n",
    "y_pred=regressor.predict(X_test)"
   ]
  },
  {
   "cell_type": "code",
   "execution_count": 5,
   "metadata": {},
   "outputs": [
    {
     "data": {
      "text/plain": [
       "Text(0.5, 0.98, 'Actual Vs Predicted ')"
      ]
     },
     "execution_count": 5,
     "metadata": {},
     "output_type": "execute_result"
    },
    {
     "data": {
      "image/png": "[encoded data removed]",
      "text/plain": [
       "<Figure size 432x288 with 1 Axes>"
      ]
     },
     "metadata": {
      "needs_background": "light"
     },
     "output_type": "display_data"
    }
   ],
   "source": [
    "\n",
    "#Graph for Predicted Vs Actual\n",
    "x_axis = np.linspace(100000,750000,16)\n",
    "fig = plt.figure()\n",
    "plt.plot(x_axis,y_test, color=\"red\",  linewidth=2.5, linestyle=\"-\")\n",
    "plt.plot(x_axis,y_pred, color=\"blue\", linewidth=2.5, linestyle=\"-\")\n",
    "fig.suptitle('Actual Vs Predicted ', fontsize=20)"
   ]
  },
  {
   "cell_type": "code",
   "execution_count": 6,
   "metadata": {},
   "outputs": [],
   "source": [
    "#Building the optimal model using Backward Elimination \n",
    "import statsmodels.formula.api as sm\n",
    "X=np.append(arr=np.ones((80,1)).astype(int),axis = 1,values=X)"
   ]
  },
  {
   "cell_type": "code",
   "execution_count": 7,
   "metadata": {},
   "outputs": [],
   "source": [
    "X_opt = X[:, [0, 1, 2, 3, 4, 5]]\n"
   ]
  },
  {
   "cell_type": "code",
   "execution_count": 8,
   "metadata": {},
   "outputs": [
    {
     "data": {
      "text/html": [
       "<table class=\"simpletable\">\n",
       "<caption>OLS Regression Results</caption>\n",
       "<tr>\n",
       "  <th>Dep. Variable:</th>            <td>y</td>        <th>  R-squared:         </th> <td>   0.677</td>\n",
       "</tr>\n",
       "<tr>\n",
       "  <th>Model:</th>                   <td>OLS</td>       <th>  Adj. R-squared:    </th> <td>   0.656</td>\n",
       "</tr>\n",
       "<tr>\n",
       "  <th>Method:</th>             <td>Least Squares</td>  <th>  F-statistic:       </th> <td>   31.08</td>\n",
       "</tr>\n",
       "<tr>\n",
       "  <th>Date:</th>             <td>Mon, 22 Jul 2019</td> <th>  Prob (F-statistic):</th> <td>6.66e-17</td>\n",
       "</tr>\n",
       "<tr>\n",
       "  <th>Time:</th>                 <td>09:13:10</td>     <th>  Log-Likelihood:    </th> <td> -1023.8</td>\n",
       "</tr>\n",
       "<tr>\n",
       "  <th>No. Observations:</th>      <td>    80</td>      <th>  AIC:               </th> <td>   2060.</td>\n",
       "</tr>\n",
       "<tr>\n",
       "  <th>Df Residuals:</th>          <td>    74</td>      <th>  BIC:               </th> <td>   2074.</td>\n",
       "</tr>\n",
       "<tr>\n",
       "  <th>Df Model:</th>              <td>     5</td>      <th>                     </th>     <td> </td>   \n",
       "</tr>\n",
       "<tr>\n",
       "  <th>Covariance Type:</th>      <td>nonrobust</td>    <th>                     </th>     <td> </td>   \n",
       "</tr>\n",
       "</table>\n",
       "<table class=\"simpletable\">\n",
       "<tr>\n",
       "    <td></td>       <th>coef</th>     <th>std err</th>      <th>t</th>      <th>P>|t|</th>  <th>[0.025</th>    <th>0.975]</th>  \n",
       "</tr>\n",
       "<tr>\n",
       "  <th>const</th> <td>-5.738e+05</td> <td> 9.04e+04</td> <td>   -6.348</td> <td> 0.000</td> <td>-7.54e+05</td> <td>-3.94e+05</td>\n",
       "</tr>\n",
       "<tr>\n",
       "  <th>x1</th>    <td>   -0.1521</td> <td>    0.167</td> <td>   -0.910</td> <td> 0.366</td> <td>   -0.485</td> <td>    0.181</td>\n",
       "</tr>\n",
       "<tr>\n",
       "  <th>x2</th>    <td>    0.2540</td> <td>    0.142</td> <td>    1.787</td> <td> 0.078</td> <td>   -0.029</td> <td>    0.537</td>\n",
       "</tr>\n",
       "<tr>\n",
       "  <th>x3</th>    <td>    0.0004</td> <td> 5.05e-05</td> <td>    8.112</td> <td> 0.000</td> <td>    0.000</td> <td>    0.001</td>\n",
       "</tr>\n",
       "<tr>\n",
       "  <th>x4</th>    <td>-4359.9642</td> <td> 3.64e+04</td> <td>   -0.120</td> <td> 0.905</td> <td>-7.68e+04</td> <td> 6.81e+04</td>\n",
       "</tr>\n",
       "<tr>\n",
       "  <th>x5</th>    <td>-8.688e+04</td> <td> 3.52e+04</td> <td>   -2.472</td> <td> 0.016</td> <td>-1.57e+05</td> <td>-1.68e+04</td>\n",
       "</tr>\n",
       "</table>\n",
       "<table class=\"simpletable\">\n",
       "<tr>\n",
       "  <th>Omnibus:</th>       <td> 5.014</td> <th>  Durbin-Watson:     </th> <td>   0.692</td>\n",
       "</tr>\n",
       "<tr>\n",
       "  <th>Prob(Omnibus):</th> <td> 0.081</td> <th>  Jarque-Bera (JB):  </th> <td>   4.897</td>\n",
       "</tr>\n",
       "<tr>\n",
       "  <th>Skew:</th>          <td> 0.558</td> <th>  Prob(JB):          </th> <td>  0.0864</td>\n",
       "</tr>\n",
       "<tr>\n",
       "  <th>Kurtosis:</th>      <td> 2.529</td> <th>  Cond. No.          </th> <td>1.34e+10</td>\n",
       "</tr>\n",
       "</table><br/><br/>Warnings:<br/>[1] Standard Errors assume that the covariance matrix of the errors is correctly specified.<br/>[2] The condition number is large, 1.34e+10. This might indicate that there are<br/>strong multicollinearity or other numerical problems."
      ],
      "text/plain": [
       "<class 'statsmodels.iolib.summary.Summary'>\n",
       "\"\"\"\n",
       "                            OLS Regression Results                            \n",
       "==============================================================================\n",
       "Dep. Variable:                      y   R-squared:                       0.677\n",
       "Model:                            OLS   Adj. R-squared:                  0.656\n",
       "Method:                 Least Squares   F-statistic:                     31.08\n",
       "Date:                Mon, 22 Jul 2019   Prob (F-statistic):           6.66e-17\n",
       "Time:                        09:13:10   Log-Likelihood:                -1023.8\n",
       "No. Observations:                  80   AIC:                             2060.\n",
       "Df Residuals:                      74   BIC:                             2074.\n",
       "Df Model:                           5                                         \n",
       "Covariance Type:            nonrobust                                         \n",
       "==============================================================================\n",
       "                 coef    std err          t      P>|t|      [0.025      0.975]\n",
       "------------------------------------------------------------------------------\n",
       "const      -5.738e+05   9.04e+04     -6.348      0.000   -7.54e+05   -3.94e+05\n",
       "x1            -0.1521      0.167     -0.910      0.366      -0.485       0.181\n",
       "x2             0.2540      0.142      1.787      0.078      -0.029       0.537\n",
       "x3             0.0004   5.05e-05      8.112      0.000       0.000       0.001\n",
       "x4         -4359.9642   3.64e+04     -0.120      0.905   -7.68e+04    6.81e+04\n",
       "x5         -8.688e+04   3.52e+04     -2.472      0.016   -1.57e+05   -1.68e+04\n",
       "==============================================================================\n",
       "Omnibus:                        5.014   Durbin-Watson:                   0.692\n",
       "Prob(Omnibus):                  0.081   Jarque-Bera (JB):                4.897\n",
       "Skew:                           0.558   Prob(JB):                       0.0864\n",
       "Kurtosis:                       2.529   Cond. No.                     1.34e+10\n",
       "==============================================================================\n",
       "\n",
       "Warnings:\n",
       "[1] Standard Errors assume that the covariance matrix of the errors is correctly specified.\n",
       "[2] The condition number is large, 1.34e+10. This might indicate that there are\n",
       "strong multicollinearity or other numerical problems.\n",
       "\"\"\""
      ]
     },
     "execution_count": 8,
     "metadata": {},
     "output_type": "execute_result"
    }
   ],
   "source": [
    "regressor_OLS = sm.OLS(endog = y, exog = X_opt).fit()\n",
    "regressor_OLS.summary()"
   ]
  },
  {
   "cell_type": "code",
   "execution_count": 11,
   "metadata": {},
   "outputs": [],
   "source": [
    "X_opt = X[:, [0, 1, 2, 3, 5]]\n"
   ]
  },
  {
   "cell_type": "code",
   "execution_count": 12,
   "metadata": {},
   "outputs": [
    {
     "data": {
      "text/html": [
       "<table class=\"simpletable\">\n",
       "<caption>OLS Regression Results</caption>\n",
       "<tr>\n",
       "  <th>Dep. Variable:</th>            <td>y</td>        <th>  R-squared:         </th> <td>   0.677</td>\n",
       "</tr>\n",
       "<tr>\n",
       "  <th>Model:</th>                   <td>OLS</td>       <th>  Adj. R-squared:    </th> <td>   0.660</td>\n",
       "</tr>\n",
       "<tr>\n",
       "  <th>Method:</th>             <td>Least Squares</td>  <th>  F-statistic:       </th> <td>   39.37</td>\n",
       "</tr>\n",
       "<tr>\n",
       "  <th>Date:</th>             <td>Mon, 22 Jul 2019</td> <th>  Prob (F-statistic):</th> <td>9.95e-18</td>\n",
       "</tr>\n",
       "<tr>\n",
       "  <th>Time:</th>                 <td>09:14:30</td>     <th>  Log-Likelihood:    </th> <td> -1023.8</td>\n",
       "</tr>\n",
       "<tr>\n",
       "  <th>No. Observations:</th>      <td>    80</td>      <th>  AIC:               </th> <td>   2058.</td>\n",
       "</tr>\n",
       "<tr>\n",
       "  <th>Df Residuals:</th>          <td>    75</td>      <th>  BIC:               </th> <td>   2070.</td>\n",
       "</tr>\n",
       "<tr>\n",
       "  <th>Df Model:</th>              <td>     4</td>      <th>                     </th>     <td> </td>   \n",
       "</tr>\n",
       "<tr>\n",
       "  <th>Covariance Type:</th>      <td>nonrobust</td>    <th>                     </th>     <td> </td>   \n",
       "</tr>\n",
       "</table>\n",
       "<table class=\"simpletable\">\n",
       "<tr>\n",
       "    <td></td>       <th>coef</th>     <th>std err</th>      <th>t</th>      <th>P>|t|</th>  <th>[0.025</th>    <th>0.975]</th>  \n",
       "</tr>\n",
       "<tr>\n",
       "  <th>const</th> <td>-5.734e+05</td> <td> 8.97e+04</td> <td>   -6.391</td> <td> 0.000</td> <td>-7.52e+05</td> <td>-3.95e+05</td>\n",
       "</tr>\n",
       "<tr>\n",
       "  <th>x1</th>    <td>   -0.1557</td> <td>    0.163</td> <td>   -0.954</td> <td> 0.343</td> <td>   -0.481</td> <td>    0.169</td>\n",
       "</tr>\n",
       "<tr>\n",
       "  <th>x2</th>    <td>    0.2559</td> <td>    0.140</td> <td>    1.824</td> <td> 0.072</td> <td>   -0.024</td> <td>    0.535</td>\n",
       "</tr>\n",
       "<tr>\n",
       "  <th>x3</th>    <td>    0.0004</td> <td> 4.99e-05</td> <td>    8.227</td> <td> 0.000</td> <td>    0.000</td> <td>    0.001</td>\n",
       "</tr>\n",
       "<tr>\n",
       "  <th>x4</th>    <td>-8.658e+04</td> <td> 3.48e+04</td> <td>   -2.486</td> <td> 0.015</td> <td>-1.56e+05</td> <td>-1.72e+04</td>\n",
       "</tr>\n",
       "</table>\n",
       "<table class=\"simpletable\">\n",
       "<tr>\n",
       "  <th>Omnibus:</th>       <td> 4.904</td> <th>  Durbin-Watson:     </th> <td>   0.691</td>\n",
       "</tr>\n",
       "<tr>\n",
       "  <th>Prob(Omnibus):</th> <td> 0.086</td> <th>  Jarque-Bera (JB):  </th> <td>   4.766</td>\n",
       "</tr>\n",
       "<tr>\n",
       "  <th>Skew:</th>          <td> 0.548</td> <th>  Prob(JB):          </th> <td>  0.0923</td>\n",
       "</tr>\n",
       "<tr>\n",
       "  <th>Kurtosis:</th>      <td> 2.523</td> <th>  Cond. No.          </th> <td>1.33e+10</td>\n",
       "</tr>\n",
       "</table><br/><br/>Warnings:<br/>[1] Standard Errors assume that the covariance matrix of the errors is correctly specified.<br/>[2] The condition number is large, 1.33e+10. This might indicate that there are<br/>strong multicollinearity or other numerical problems."
      ],
      "text/plain": [
       "<class 'statsmodels.iolib.summary.Summary'>\n",
       "\"\"\"\n",
       "                            OLS Regression Results                            \n",
       "==============================================================================\n",
       "Dep. Variable:                      y   R-squared:                       0.677\n",
       "Model:                            OLS   Adj. R-squared:                  0.660\n",
       "Method:                 Least Squares   F-statistic:                     39.37\n",
       "Date:                Mon, 22 Jul 2019   Prob (F-statistic):           9.95e-18\n",
       "Time:                        09:14:30   Log-Likelihood:                -1023.8\n",
       "No. Observations:                  80   AIC:                             2058.\n",
       "Df Residuals:                      75   BIC:                             2070.\n",
       "Df Model:                           4                                         \n",
       "Covariance Type:            nonrobust                                         \n",
       "==============================================================================\n",
       "                 coef    std err          t      P>|t|      [0.025      0.975]\n",
       "------------------------------------------------------------------------------\n",
       "const      -5.734e+05   8.97e+04     -6.391      0.000   -7.52e+05   -3.95e+05\n",
       "x1            -0.1557      0.163     -0.954      0.343      -0.481       0.169\n",
       "x2             0.2559      0.140      1.824      0.072      -0.024       0.535\n",
       "x3             0.0004   4.99e-05      8.227      0.000       0.000       0.001\n",
       "x4         -8.658e+04   3.48e+04     -2.486      0.015   -1.56e+05   -1.72e+04\n",
       "==============================================================================\n",
       "Omnibus:                        4.904   Durbin-Watson:                   0.691\n",
       "Prob(Omnibus):                  0.086   Jarque-Bera (JB):                4.766\n",
       "Skew:                           0.548   Prob(JB):                       0.0923\n",
       "Kurtosis:                       2.523   Cond. No.                     1.33e+10\n",
       "==============================================================================\n",
       "\n",
       "Warnings:\n",
       "[1] Standard Errors assume that the covariance matrix of the errors is correctly specified.\n",
       "[2] The condition number is large, 1.33e+10. This might indicate that there are\n",
       "strong multicollinearity or other numerical problems.\n",
       "\"\"\""
      ]
     },
     "execution_count": 12,
     "metadata": {},
     "output_type": "execute_result"
    }
   ],
   "source": [
    "regressor_OLS = sm.OLS(endog = y, exog = X_opt).fit()\n",
    "regressor_OLS.summary()"
   ]
  },
  {
   "cell_type": "code",
   "execution_count": 13,
   "metadata": {},
   "outputs": [],
   "source": [
    "X_opt = X[:, [0, 2,3,5]]\n"
   ]
  },
  {
   "cell_type": "code",
   "execution_count": 14,
   "metadata": {},
   "outputs": [
    {
     "data": {
      "text/html": [
       "<table class=\"simpletable\">\n",
       "<caption>OLS Regression Results</caption>\n",
       "<tr>\n",
       "  <th>Dep. Variable:</th>            <td>y</td>        <th>  R-squared:         </th> <td>   0.673</td>\n",
       "</tr>\n",
       "<tr>\n",
       "  <th>Model:</th>                   <td>OLS</td>       <th>  Adj. R-squared:    </th> <td>   0.661</td>\n",
       "</tr>\n",
       "<tr>\n",
       "  <th>Method:</th>             <td>Least Squares</td>  <th>  F-statistic:       </th> <td>   52.25</td>\n",
       "</tr>\n",
       "<tr>\n",
       "  <th>Date:</th>             <td>Mon, 22 Jul 2019</td> <th>  Prob (F-statistic):</th> <td>1.96e-18</td>\n",
       "</tr>\n",
       "<tr>\n",
       "  <th>Time:</th>                 <td>09:15:31</td>     <th>  Log-Likelihood:    </th> <td> -1024.3</td>\n",
       "</tr>\n",
       "<tr>\n",
       "  <th>No. Observations:</th>      <td>    80</td>      <th>  AIC:               </th> <td>   2057.</td>\n",
       "</tr>\n",
       "<tr>\n",
       "  <th>Df Residuals:</th>          <td>    76</td>      <th>  BIC:               </th> <td>   2066.</td>\n",
       "</tr>\n",
       "<tr>\n",
       "  <th>Df Model:</th>              <td>     3</td>      <th>                     </th>     <td> </td>   \n",
       "</tr>\n",
       "<tr>\n",
       "  <th>Covariance Type:</th>      <td>nonrobust</td>    <th>                     </th>     <td> </td>   \n",
       "</tr>\n",
       "</table>\n",
       "<table class=\"simpletable\">\n",
       "<tr>\n",
       "    <td></td>       <th>coef</th>     <th>std err</th>      <th>t</th>      <th>P>|t|</th>  <th>[0.025</th>    <th>0.975]</th>  \n",
       "</tr>\n",
       "<tr>\n",
       "  <th>const</th> <td>-5.537e+05</td> <td> 8.73e+04</td> <td>   -6.345</td> <td> 0.000</td> <td>-7.27e+05</td> <td> -3.8e+05</td>\n",
       "</tr>\n",
       "<tr>\n",
       "  <th>x1</th>    <td>    0.1286</td> <td>    0.043</td> <td>    2.965</td> <td> 0.004</td> <td>    0.042</td> <td>    0.215</td>\n",
       "</tr>\n",
       "<tr>\n",
       "  <th>x2</th>    <td>    0.0004</td> <td> 4.94e-05</td> <td>    8.178</td> <td> 0.000</td> <td>    0.000</td> <td>    0.001</td>\n",
       "</tr>\n",
       "<tr>\n",
       "  <th>x3</th>    <td>-6.615e+04</td> <td> 2.75e+04</td> <td>   -2.409</td> <td> 0.018</td> <td>-1.21e+05</td> <td>-1.15e+04</td>\n",
       "</tr>\n",
       "</table>\n",
       "<table class=\"simpletable\">\n",
       "<tr>\n",
       "  <th>Omnibus:</th>       <td> 5.582</td> <th>  Durbin-Watson:     </th> <td>   0.703</td>\n",
       "</tr>\n",
       "<tr>\n",
       "  <th>Prob(Omnibus):</th> <td> 0.061</td> <th>  Jarque-Bera (JB):  </th> <td>   5.528</td>\n",
       "</tr>\n",
       "<tr>\n",
       "  <th>Skew:</th>          <td> 0.601</td> <th>  Prob(JB):          </th> <td>  0.0630</td>\n",
       "</tr>\n",
       "<tr>\n",
       "  <th>Kurtosis:</th>      <td> 2.538</td> <th>  Cond. No.          </th> <td>1.29e+10</td>\n",
       "</tr>\n",
       "</table><br/><br/>Warnings:<br/>[1] Standard Errors assume that the covariance matrix of the errors is correctly specified.<br/>[2] The condition number is large, 1.29e+10. This might indicate that there are<br/>strong multicollinearity or other numerical problems."
      ],
      "text/plain": [
       "<class 'statsmodels.iolib.summary.Summary'>\n",
       "\"\"\"\n",
       "                            OLS Regression Results                            \n",
       "==============================================================================\n",
       "Dep. Variable:                      y   R-squared:                       0.673\n",
       "Model:                            OLS   Adj. R-squared:                  0.661\n",
       "Method:                 Least Squares   F-statistic:                     52.25\n",
       "Date:                Mon, 22 Jul 2019   Prob (F-statistic):           1.96e-18\n",
       "Time:                        09:15:31   Log-Likelihood:                -1024.3\n",
       "No. Observations:                  80   AIC:                             2057.\n",
       "Df Residuals:                      76   BIC:                             2066.\n",
       "Df Model:                           3                                         \n",
       "Covariance Type:            nonrobust                                         \n",
       "==============================================================================\n",
       "                 coef    std err          t      P>|t|      [0.025      0.975]\n",
       "------------------------------------------------------------------------------\n",
       "const      -5.537e+05   8.73e+04     -6.345      0.000   -7.27e+05    -3.8e+05\n",
       "x1             0.1286      0.043      2.965      0.004       0.042       0.215\n",
       "x2             0.0004   4.94e-05      8.178      0.000       0.000       0.001\n",
       "x3         -6.615e+04   2.75e+04     -2.409      0.018   -1.21e+05   -1.15e+04\n",
       "==============================================================================\n",
       "Omnibus:                        5.582   Durbin-Watson:                   0.703\n",
       "Prob(Omnibus):                  0.061   Jarque-Bera (JB):                5.528\n",
       "Skew:                           0.601   Prob(JB):                       0.0630\n",
       "Kurtosis:                       2.538   Cond. No.                     1.29e+10\n",
       "==============================================================================\n",
       "\n",
       "Warnings:\n",
       "[1] Standard Errors assume that the covariance matrix of the errors is correctly specified.\n",
       "[2] The condition number is large, 1.29e+10. This might indicate that there are\n",
       "strong multicollinearity or other numerical problems.\n",
       "\"\"\""
      ]
     },
     "execution_count": 14,
     "metadata": {},
     "output_type": "execute_result"
    }
   ],
   "source": [
    "regressor_OLS = sm.OLS(endog = y, exog = X_opt).fit()\n",
    "regressor_OLS.summary()"
   ]
  },
  {
   "cell_type": "code",
   "execution_count": 15,
   "metadata": {},
   "outputs": [],
   "source": [
    "X_train_new, X_test_new, y_train, y_test = train_test_split(X_opt, y, test_size = 0.2, random_state = 0)\n",
    "regressor_new=LinearRegression()\n",
    "regressor_new.fit(X_train_new,y_train)\n",
    "y_pred_new=regressor_new.predict(X_test_new)"
   ]
  },
  {
   "cell_type": "code",
   "execution_count": 16,
   "metadata": {},
   "outputs": [
    {
     "data": {
      "text/plain": [
       "Text(0.5, 0.98, 'Actual Vs _New Predicted ')"
      ]
     },
     "execution_count": 16,
     "metadata": {},
     "output_type": "execute_result"
    },
    {
     "data": {
      "image/png": "[encoded data removed]",
      "text/plain": [
       "<Figure size 432x288 with 1 Axes>"
      ]
     },
     "metadata": {
      "needs_background": "light"
     },
     "output_type": "display_data"
    }
   ],
   "source": [
    "#Graph for New Predicted Vs Actual\n",
    "fig = plt.figure()\n",
    "plt.plot(x_axis,y_test, color=\"red\",  linewidth=2.5, linestyle=\"-\")\n",
    "plt.plot(x_axis,y_pred_new, color=\"blue\", linewidth=2.5, linestyle=\"-\")\n",
    "fig.suptitle('Actual Vs _New Predicted ', fontsize=20)"
   ]
  },
  {
   "cell_type": "code",
   "execution_count": 17,
   "metadata": {},
   "outputs": [
    {
     "data": {
      "text/plain": [
       "Text(0.5, 0.98, 'Actual Vs Predicted Vs New Predicted ')"
      ]
     },
     "execution_count": 17,
     "metadata": {},
     "output_type": "execute_result"
    },
    {
     "data": {
      "image/png": "[encoded data removed]",
      "text/plain": [
       "<Figure size 432x288 with 1 Axes>"
      ]
     },
     "metadata": {
      "needs_background": "light"
     },
     "output_type": "display_data"
    }
   ],
   "source": [
    "#Graph for Predicted Vs New Predicted Vs Actual\n",
    "fig = plt.figure()\n",
    "plt.plot(x_axis,y_test, color=\"red\",  linewidth=2.5, linestyle=\"-\")\n",
    "plt.plot(x_axis,y_pred_new, color=\"green\", linewidth=2.5, linestyle=\"-\")\n",
    "plt.plot(x_axis,y_pred, color=\"blue\", linewidth=2.5, linestyle=\"-\")\n",
    "fig.suptitle('Actual Vs Predicted Vs New Predicted ', fontsize=20)"
   ]
  },
  {
   "cell_type": "markdown",
   "metadata": {},
   "source": [
    "As if now this approach is not giving correct prediction, need to work on approach"
   ]
  },
  {
   "cell_type": "code",
   "execution_count": null,
   "metadata": {},
   "outputs": [],
   "source": []
  }
 ],
 "metadata": {
  "kernelspec": {
   "display_name": "Python 3",
   "language": "python",
   "name": "python3"
  },
  "language_info": {
   "codemirror_mode": {
    "name": "ipython",
    "version": 3
   },
   "file_extension": ".py",
   "mimetype": "text/x-python",
   "name": "python",
   "nbconvert_exporter": "python",
   "pygments_lexer": "ipython3",
   "version": "3.7.3"
  }
 },
 "nbformat": 4,
 "nbformat_minor": 2
}
